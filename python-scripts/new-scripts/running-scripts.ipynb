{
 "cells": [
  {
   "cell_type": "code",
   "execution_count": 1,
   "metadata": {},
   "outputs": [],
   "source": [
    "import utilities as ut"
   ]
  },
  {
   "cell_type": "code",
   "execution_count": 2,
   "metadata": {},
   "outputs": [],
   "source": [
    "import recRetrieve as rec\n",
    "import pullRequests as pr"
   ]
  },
  {
   "cell_type": "code",
   "execution_count": 3,
   "metadata": {},
   "outputs": [],
   "source": [
    "url = rec.default_url"
   ]
  },
  {
   "cell_type": "code",
   "execution_count": 4,
   "metadata": {},
   "outputs": [],
   "source": [
    "params = ut.getParams()"
   ]
  },
  {
   "cell_type": "code",
   "execution_count": 5,
   "metadata": {},
   "outputs": [
    {
     "name": "stdout",
     "output_type": "stream",
     "text": [
      "Retrieving: https://api.github.com/repos/tensorflow/tensorflow/pulls?per_page=100&access_token=26e3f7340239e28acf3a2a1b79736f6f5d81ee9a\n",
      "[tflite] make calling NNAPI work again 1\n",
      "Limit Remaining: 4999\n",
      "Retrieving: https://api.github.com/repositories/45717250/pulls?per_page=100&access_token=26e3f7340239e28acf3a2a1b79736f6f5d81ee9a&page=2\n",
      "fix pooling1D dimension bug 1\n",
      "Limit Remaining: 4998\n",
      "Retrieving: https://api.github.com/repositories/45717250/pulls?per_page=100&access_token=26e3f7340239e28acf3a2a1b79736f6f5d81ee9a&page=3\n",
      "Multiplicative Integration Recurrent Neural Networks 3\n",
      "Limit Remaining: 4997\n"
     ]
    }
   ],
   "source": [
    "rec.retrieve(url, params, pr.action)"
   ]
  },
  {
   "cell_type": "code",
   "execution_count": 15,
   "metadata": {},
   "outputs": [],
   "source": [
    "import pullRequests as pr"
   ]
  },
  {
   "cell_type": "code",
   "execution_count": 16,
   "metadata": {},
   "outputs": [
    {
     "name": "stdout",
     "output_type": "stream",
     "text": [
      "Retrieving: https://api.github.com/repos/tensorflow/tensorflow/pulls?per_page=100&access_token=26e3f7340239e28acf3a2a1b79736f6f5d81ee9a\n",
      "[tflite] make calling NNAPI work again 1\n",
      "Limit Remaining: 4999\n",
      "Retrieving: https://api.github.com/repositories/45717250/pulls?per_page=100&access_token=26e3f7340239e28acf3a2a1b79736f6f5d81ee9a&page=2\n",
      "fix pooling1D dimension bug 1\n",
      "Limit Remaining: 4998\n",
      "Retrieving: https://api.github.com/repositories/45717250/pulls?per_page=100&access_token=26e3f7340239e28acf3a2a1b79736f6f5d81ee9a&page=3\n",
      "Multiplicative Integration Recurrent Neural Networks 3\n",
      "Limit Remaining: 4997\n"
     ]
    }
   ],
   "source": [
    "rec.retrieve(url, params, pr.action)"
   ]
  },
  {
   "cell_type": "code",
   "execution_count": 11,
   "metadata": {},
   "outputs": [
    {
     "name": "stdout",
     "output_type": "stream",
     "text": [
      "Help on function retrieve in module recRetrieve:\n",
      "\n",
      "retrieve(url, params, action)\n",
      "    retrieve takes three arguements.\n",
      "    \n",
      "    url - url of the target page\n",
      "    params - additional information to encode in url\n",
      "    action - action that needs to be taken on read data\n",
      "    \n",
      "    It recursively checks for any 'next' links being\n",
      "    available in the file header and traverses them to\n",
      "    perform the same action.\n",
      "\n"
     ]
    }
   ],
   "source": [
    "help(rec.retrieve)"
   ]
  },
  {
   "cell_type": "code",
   "execution_count": 12,
   "metadata": {},
   "outputs": [
    {
     "name": "stdout",
     "output_type": "stream",
     "text": [
      "Help on function retrieve in module recRetrieve:\n",
      "\n",
      "retrieve(url, params, action)\n",
      "    retrieve takes three arguements.\n",
      "    \n",
      "    url - url of the target page\n",
      "    params - additional information to encode in url\n",
      "    action - action that needs to be taken on read data\n",
      "    \n",
      "    It recursively checks for any 'next' links being\n",
      "    available in the file header and traverses them to\n",
      "    perform the same action.\n",
      "\n"
     ]
    }
   ],
   "source": [
    "help(rec.retrieve)"
   ]
  },
  {
   "cell_type": "code",
   "execution_count": 14,
   "metadata": {},
   "outputs": [
    {
     "ename": "AttributeError",
     "evalue": "'str' object has no attribute 'replaceall'",
     "output_type": "error",
     "traceback": [
      "\u001b[1;31m-------------------------------------------------------------------\u001b[0m",
      "\u001b[1;31mAttributeError\u001b[0m                    Traceback (most recent call last)",
      "\u001b[1;32m<ipython-input-14-317bef6453d4>\u001b[0m in \u001b[0;36m<module>\u001b[1;34m()\u001b[0m\n\u001b[1;32m----> 1\u001b[1;33m \u001b[1;34m\"as\\as\"\u001b[0m\u001b[1;33m.\u001b[0m\u001b[0mreplaceall\u001b[0m\u001b[1;33m(\u001b[0m\u001b[1;34m'\\\\'\u001b[0m\u001b[1;33m,\u001b[0m\u001b[1;34m' '\u001b[0m\u001b[1;33m)\u001b[0m\u001b[1;33m\u001b[0m\u001b[0m\n\u001b[0m",
      "\u001b[1;31mAttributeError\u001b[0m: 'str' object has no attribute 'replaceall'"
     ]
    }
   ],
   "source": [
    "\"as\\as\".replaceall('\\\\',' ')"
   ]
  },
  {
   "cell_type": "code",
   "execution_count": 1,
   "metadata": {},
   "outputs": [],
   "source": [
    "import utilities as ut\n",
    "import recRetrieve as rec\n",
    "import pullRequests as pr"
   ]
  },
  {
   "cell_type": "code",
   "execution_count": 2,
   "metadata": {},
   "outputs": [],
   "source": [
    "url = rec.default_url"
   ]
  },
  {
   "cell_type": "code",
   "execution_count": 3,
   "metadata": {},
   "outputs": [],
   "source": [
    "params = ut.getParams()"
   ]
  },
  {
   "cell_type": "code",
   "execution_count": 4,
   "metadata": {},
   "outputs": [
    {
     "name": "stdout",
     "output_type": "stream",
     "text": [
      "Retrieving: https://api.github.com/repos/tensorflow/tensorflow/pulls?per_page=100&access_token=26e3f7340239e28acf3a2a1b79736f6f5d81ee9a\n",
      "Working on: [tflite] make calling NNAPI work again\n",
      "Storing data in tensorflow.csv\n",
      "Limit Remaining: 4990\n",
      "Retrieving: https://api.github.com/repositories/45717250/pulls?per_page=100&access_token=26e3f7340239e28acf3a2a1b79736f6f5d81ee9a&page=2\n",
      "Working on: fix pooling1D dimension bug\n",
      "Storing data in tensorflow.csv\n",
      "Limit Remaining: 4989\n",
      "Retrieving: https://api.github.com/repositories/45717250/pulls?per_page=100&access_token=26e3f7340239e28acf3a2a1b79736f6f5d81ee9a&page=3\n",
      "Working on: Multiplicative Integration Recurrent Neural Networks\n",
      "Storing data in tensorflow.csv\n",
      "Limit Remaining: 4988\n"
     ]
    }
   ],
   "source": [
    "rec.retrieve(url, params, pr.action)"
   ]
  },
  {
   "cell_type": "code",
   "execution_count": 5,
   "metadata": {},
   "outputs": [
    {
     "ename": "NameError",
     "evalue": "name 'tensorflow' is not defined",
     "output_type": "error",
     "traceback": [
      "\u001b[1;31m---------------------------------------------------------------\u001b[0m",
      "\u001b[1;31mNameError\u001b[0m                     Traceback (most recent call last)",
      "\u001b[1;32m<ipython-input-5-0ec3d3a985c9>\u001b[0m in \u001b[0;36m<module>\u001b[1;34m()\u001b[0m\n\u001b[1;32m----> 1\u001b[1;33m \u001b[0mtensorflow\u001b[0m\u001b[1;33m.\u001b[0m\u001b[0mcsv\u001b[0m\u001b[1;33m\u001b[0m\u001b[0m\n\u001b[0m",
      "\u001b[1;31mNameError\u001b[0m: name 'tensorflow' is not defined"
     ]
    }
   ],
   "source": [
    "tensorflow.csv"
   ]
  },
  {
   "cell_type": "code",
   "execution_count": 6,
   "metadata": {},
   "outputs": [],
   "source": [
    "import pandas as pd"
   ]
  },
  {
   "cell_type": "code",
   "execution_count": 7,
   "metadata": {},
   "outputs": [],
   "source": [
    "df = pd.read_csv('tensorflow.csv')"
   ]
  },
  {
   "cell_type": "code",
   "execution_count": 8,
   "metadata": {},
   "outputs": [
    {
     "data": {
      "text/html": [
       "<div>\n",
       "<style scoped>\n",
       "    .dataframe tbody tr th:only-of-type {\n",
       "        vertical-align: middle;\n",
       "    }\n",
       "\n",
       "    .dataframe tbody tr th {\n",
       "        vertical-align: top;\n",
       "    }\n",
       "\n",
       "    .dataframe thead th {\n",
       "        text-align: right;\n",
       "    }\n",
       "</style>\n",
       "<table border=\"1\" class=\"dataframe\">\n",
       "  <thead>\n",
       "    <tr style=\"text-align: right;\">\n",
       "      <th></th>\n",
       "      <th>title</th>\n",
       "      <th>commits</th>\n",
       "      <th>additions</th>\n",
       "      <th>deletions</th>\n",
       "      <th>changed_files</th>\n",
       "      <th>author_association</th>\n",
       "    </tr>\n",
       "  </thead>\n",
       "  <tbody>\n",
       "    <tr>\n",
       "      <th>0</th>\n",
       "      <td>[tflite] make calling NNAPI work again</td>\n",
       "      <td>1</td>\n",
       "      <td>0</td>\n",
       "      <td>1</td>\n",
       "      <td>1</td>\n",
       "      <td>CONTRIBUTOR</td>\n",
       "    </tr>\n",
       "    <tr>\n",
       "      <th>1</th>\n",
       "      <td>fix pooling1D dimension bug</td>\n",
       "      <td>1</td>\n",
       "      <td>4</td>\n",
       "      <td>4</td>\n",
       "      <td>1</td>\n",
       "      <td>NONE</td>\n",
       "    </tr>\n",
       "    <tr>\n",
       "      <th>2</th>\n",
       "      <td>Multiplicative Integration Recurrent Neural Ne...</td>\n",
       "      <td>6</td>\n",
       "      <td>414</td>\n",
       "      <td>0</td>\n",
       "      <td>3</td>\n",
       "      <td>NONE</td>\n",
       "    </tr>\n",
       "  </tbody>\n",
       "</table>\n",
       "</div>"
      ],
      "text/plain": [
       "                                               title  commits  additions  \\\n",
       "0             [tflite] make calling NNAPI work again        1          0   \n",
       "1                        fix pooling1D dimension bug        1          4   \n",
       "2  Multiplicative Integration Recurrent Neural Ne...        6        414   \n",
       "\n",
       "   deletions  changed_files author_association  \n",
       "0          1              1        CONTRIBUTOR  \n",
       "1          4              1               NONE  \n",
       "2          0              3               NONE  "
      ]
     },
     "execution_count": 8,
     "metadata": {},
     "output_type": "execute_result"
    }
   ],
   "source": [
    "df"
   ]
  },
  {
   "cell_type": "code",
   "execution_count": 9,
   "metadata": {},
   "outputs": [
    {
     "data": {
      "text/plain": [
       "0               [tflite] make calling NNAPI work again\n",
       "1                          fix pooling1D dimension bug\n",
       "2    Multiplicative Integration Recurrent Neural Ne...\n",
       "Name: title, dtype: object"
      ]
     },
     "execution_count": 9,
     "metadata": {},
     "output_type": "execute_result"
    }
   ],
   "source": [
    "df['title']"
   ]
  },
  {
   "cell_type": "code",
   "execution_count": null,
   "metadata": {},
   "outputs": [],
   "source": []
  }
 ],
 "metadata": {
  "kernelspec": {
   "display_name": "Python 3",
   "language": "python",
   "name": "python3"
  },
  "language_info": {
   "codemirror_mode": {
    "name": "ipython",
    "version": 3
   },
   "file_extension": ".py",
   "mimetype": "text/x-python",
   "name": "python",
   "nbconvert_exporter": "python",
   "pygments_lexer": "ipython3",
   "version": "3.6.3"
  }
 },
 "nbformat": 4,
 "nbformat_minor": 2
}
