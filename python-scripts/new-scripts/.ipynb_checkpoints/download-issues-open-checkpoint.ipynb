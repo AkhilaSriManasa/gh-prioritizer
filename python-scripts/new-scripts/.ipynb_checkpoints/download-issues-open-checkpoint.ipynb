{
 "cells": [
  {
   "cell_type": "code",
   "execution_count": 1,
   "metadata": {},
   "outputs": [],
   "source": [
    "import recRetrieve as rec\n",
    "import utilities as ut\n",
    "import issues as iss"
   ]
  },
  {
   "cell_type": "code",
   "execution_count": null,
   "metadata": {},
   "outputs": [
    {
     "name": "stdout",
     "output_type": "stream",
     "text": [
      "Retrieving: https://api.github.com/repos/tensorflow/tensorflow/issues?per_page=100&access_token=26e3f7340239e28acf3a2a1b79736f6f5d81ee9a&state=open\n",
      "[1] url for this pull_req: https://api.github.com/repos/tensorflow/tensorflow/issues/16513?per_page=100&access_token=26e3f7340239e28acf3a2a1b79736f6f5d81ee9a\n",
      "Working on pull request titled: TF1.5.0 not working with CUDA 8.0\n",
      "[2] url for this pull_req: https://api.github.com/repos/tensorflow/tensorflow/issues/16512?per_page=100&access_token=26e3f7340239e28acf3a2a1b79736f6f5d81ee9a\n",
      "Working on pull request titled: how to install ffmpeg in tensorflow 1.4 binary\n",
      "[3] url for this pull_req: https://api.github.com/repos/tensorflow/tensorflow/issues/16510?per_page=100&access_token=26e3f7340239e28acf3a2a1b79736f6f5d81ee9a\n",
      "Working on pull request titled: Feature Request: Make lstm2d.separable_lstm accept Dynamic Batch Sizes\n",
      "[4] url for this pull_req: https://api.github.com/repos/tensorflow/tensorflow/issues/16509?per_page=100&access_token=26e3f7340239e28acf3a2a1b79736f6f5d81ee9a\n",
      "Working on pull request titled: Fix typo\n",
      "[5] url for this pull_req: https://api.github.com/repos/tensorflow/tensorflow/issues/16508?per_page=100&access_token=26e3f7340239e28acf3a2a1b79736f6f5d81ee9a\n",
      "Working on pull request titled: Check more cpu features for Clang on Windows\n",
      "[6] url for this pull_req: https://api.github.com/repos/tensorflow/tensorflow/issues/16507?per_page=100&access_token=26e3f7340239e28acf3a2a1b79736f6f5d81ee9a\n",
      "Working on pull request titled: ResourceExhaustedError, when running UNET\n",
      "[7] url for this pull_req: https://api.github.com/repos/tensorflow/tensorflow/issues/16506?per_page=100&access_token=26e3f7340239e28acf3a2a1b79736f6f5d81ee9a\n",
      "Working on pull request titled: Feature request: Have Estimator display Loss and Metrics for Every Epoch and not Every Step\n",
      "[8] url for this pull_req: https://api.github.com/repos/tensorflow/tensorflow/issues/16505?per_page=100&access_token=26e3f7340239e28acf3a2a1b79736f6f5d81ee9a\n",
      "Working on pull request titled: Remove BOM\n",
      "[9] url for this pull_req: https://api.github.com/repos/tensorflow/tensorflow/issues/16504?per_page=100&access_token=26e3f7340239e28acf3a2a1b79736f6f5d81ee9a\n",
      "Working on pull request titled: Issue propagating gradients through tf.while_loop\n",
      "[10] url for this pull_req: https://api.github.com/repos/tensorflow/tensorflow/issues/16503?per_page=100&access_token=26e3f7340239e28acf3a2a1b79736f6f5d81ee9a\n",
      "Working on pull request titled: Enable multi-dimensional and axis support for tf.unique_with_counts\n",
      "[11] url for this pull_req: https://api.github.com/repos/tensorflow/tensorflow/issues/16502?per_page=100&access_token=26e3f7340239e28acf3a2a1b79736f6f5d81ee9a\n",
      "Working on pull request titled: Java Android API: No OpKernel was registered to support Op 'ListDiff'\n",
      "[12] url for this pull_req: https://api.github.com/repos/tensorflow/tensorflow/issues/16501?per_page=100&access_token=26e3f7340239e28acf3a2a1b79736f6f5d81ee9a\n",
      "Working on pull request titled: Define Cr, Fr, Shared, Var to resolved undefined names\n",
      "[13] url for this pull_req: https://api.github.com/repos/tensorflow/tensorflow/issues/16500?per_page=100&access_token=26e3f7340239e28acf3a2a1b79736f6f5d81ee9a\n",
      "Working on pull request titled: contrib/learn: Typo in variable name x_exrta --> x_extra\n",
      "[14] url for this pull_req: https://api.github.com/repos/tensorflow/tensorflow/issues/16499?per_page=100&access_token=26e3f7340239e28acf3a2a1b79736f6f5d81ee9a\n",
      "Working on pull request titled: Extend tf.unique_with_counts to multi-dimensional tensors\n",
      "[15] url for this pull_req: https://api.github.com/repos/tensorflow/tensorflow/issues/16498?per_page=100&access_token=26e3f7340239e28acf3a2a1b79736f6f5d81ee9a\n",
      "Working on pull request titled: Bounding box do not remove\n",
      "[16] url for this pull_req: https://api.github.com/repos/tensorflow/tensorflow/issues/16497?per_page=100&access_token=26e3f7340239e28acf3a2a1b79736f6f5d81ee9a\n",
      "Working on pull request titled: SpatialConvolution in tflite is very slow\n",
      "[17] url for this pull_req: https://api.github.com/repos/tensorflow/tensorflow/issues/16496?per_page=100&access_token=26e3f7340239e28acf3a2a1b79736f6f5d81ee9a\n",
      "Working on pull request titled: Feature Suggestion: \"Float-bit-strings\"\n",
      "[18] url for this pull_req: https://api.github.com/repos/tensorflow/tensorflow/issues/16494?per_page=100&access_token=26e3f7340239e28acf3a2a1b79736f6f5d81ee9a\n",
      "Working on pull request titled: Enable [no]unroll for Clang on Windows\n",
      "[19] url for this pull_req: https://api.github.com/repos/tensorflow/tensorflow/issues/16493?per_page=100&access_token=26e3f7340239e28acf3a2a1b79736f6f5d81ee9a\n",
      "Working on pull request titled: Keras \"Output missing from loss dictionary\"\n",
      "[20] url for this pull_req: https://api.github.com/repos/tensorflow/tensorflow/issues/16492?per_page=100&access_token=26e3f7340239e28acf3a2a1b79736f6f5d81ee9a\n",
      "Working on pull request titled: Clang on Windows will define __BYTE_ORDER__ etc. for us\n",
      "[21] url for this pull_req: https://api.github.com/repos/tensorflow/tensorflow/issues/16491?per_page=100&access_token=26e3f7340239e28acf3a2a1b79736f6f5d81ee9a\n",
      "Working on pull request titled: Remove all_opensource_files\n",
      "[22] url for this pull_req: https://api.github.com/repos/tensorflow/tensorflow/issues/16490?per_page=100&access_token=26e3f7340239e28acf3a2a1b79736f6f5d81ee9a\n",
      "Working on pull request titled: Tflite windows\n",
      "[23] url for this pull_req: https://api.github.com/repos/tensorflow/tensorflow/issues/16489?per_page=100&access_token=26e3f7340239e28acf3a2a1b79736f6f5d81ee9a\n",
      "Working on pull request titled: Fix document typo\n",
      "[24] url for this pull_req: https://api.github.com/repos/tensorflow/tensorflow/issues/16488?per_page=100&access_token=26e3f7340239e28acf3a2a1b79736f6f5d81ee9a\n",
      "Working on pull request titled: Travis trusty Ubuntu 14.04.5: module compiled against API version 0xc but this version of numpy is 0xb\n",
      "[25] url for this pull_req: https://api.github.com/repos/tensorflow/tensorflow/issues/16486?per_page=100&access_token=26e3f7340239e28acf3a2a1b79736f6f5d81ee9a\n",
      "Working on pull request titled: Change RELEASE.md to specify CUDA 9.0\n",
      "[26] url for this pull_req: https://api.github.com/repos/tensorflow/tensorflow/issues/16485?per_page=100&access_token=26e3f7340239e28acf3a2a1b79736f6f5d81ee9a\n",
      "Working on pull request titled: resolve undefined name array_ops\n",
      "[27] url for this pull_req: https://api.github.com/repos/tensorflow/tensorflow/issues/16484?per_page=100&access_token=26e3f7340239e28acf3a2a1b79736f6f5d81ee9a\n",
      "Working on pull request titled: use gather_nd to _gather_states in LSTMBlockWapper & fix SRU call return type\n",
      "[28] url for this pull_req: https://api.github.com/repos/tensorflow/tensorflow/issues/16483?per_page=100&access_token=26e3f7340239e28acf3a2a1b79736f6f5d81ee9a\n",
      "Working on pull request titled: Test case for session_partial_run_test.py is getting failed \n",
      "[29] url for this pull_req: https://api.github.com/repos/tensorflow/tensorflow/issues/16482?per_page=100&access_token=26e3f7340239e28acf3a2a1b79736f6f5d81ee9a\n",
      "Working on pull request titled: Specify CUDA 9.0 version\n",
      "[30] url for this pull_req: https://api.github.com/repos/tensorflow/tensorflow/issues/16481?per_page=100&access_token=26e3f7340239e28acf3a2a1b79736f6f5d81ee9a\n",
      "Working on pull request titled: Container localhost does not exist.\n",
      "[31] url for this pull_req: https://api.github.com/repos/tensorflow/tensorflow/issues/16480?per_page=100&access_token=26e3f7340239e28acf3a2a1b79736f6f5d81ee9a\n",
      "Working on pull request titled: CMake fixes, able generate reusable shared lib for C++ interface by find_package\n",
      "[32] url for this pull_req: https://api.github.com/repos/tensorflow/tensorflow/issues/16477?per_page=100&access_token=26e3f7340239e28acf3a2a1b79736f6f5d81ee9a\n",
      "Working on pull request titled: Windows Installation tutorial has wrong cuda version requirement, 9.0 required for latest version.\n",
      "[33] url for this pull_req: https://api.github.com/repos/tensorflow/tensorflow/issues/16476?per_page=100&access_token=26e3f7340239e28acf3a2a1b79736f6f5d81ee9a\n",
      "Working on pull request titled: Tflite SSD Postprocessing\n",
      "[34] url for this pull_req: https://api.github.com/repos/tensorflow/tensorflow/issues/16473?per_page=100&access_token=26e3f7340239e28acf3a2a1b79736f6f5d81ee9a\n"
     ]
    },
    {
     "name": "stdout",
     "output_type": "stream",
     "text": [
      "Working on pull request titled: Fixing hard_sigmoid's documentation to match impl\n",
      "[35] url for this pull_req: https://api.github.com/repos/tensorflow/tensorflow/issues/16468?per_page=100&access_token=26e3f7340239e28acf3a2a1b79736f6f5d81ee9a\n",
      "Working on pull request titled: Keras multi input and estimator\n",
      "[36] url for this pull_req: https://api.github.com/repos/tensorflow/tensorflow/issues/16466?per_page=100&access_token=26e3f7340239e28acf3a2a1b79736f6f5d81ee9a\n",
      "Working on pull request titled: [Feature request] Adding a PR curves to canned estimators for (binary) classifiers\n",
      "[37] url for this pull_req: https://api.github.com/repos/tensorflow/tensorflow/issues/16465?per_page=100&access_token=26e3f7340239e28acf3a2a1b79736f6f5d81ee9a\n",
      "Working on pull request titled: bug with frame_step in tf.contrib.signal.frame or overlap_and_add (or am I doing something wrong?)\n",
      "[38] url for this pull_req: https://api.github.com/repos/tensorflow/tensorflow/issues/16464?per_page=100&access_token=26e3f7340239e28acf3a2a1b79736f6f5d81ee9a\n",
      "Working on pull request titled: AssignAddVariableOp has no output\n",
      "[39] url for this pull_req: https://api.github.com/repos/tensorflow/tensorflow/issues/16461?per_page=100&access_token=26e3f7340239e28acf3a2a1b79736f6f5d81ee9a\n",
      "Working on pull request titled: macOS mnist download error\n",
      "[40] url for this pull_req: https://api.github.com/repos/tensorflow/tensorflow/issues/16460?per_page=100&access_token=26e3f7340239e28acf3a2a1b79736f6f5d81ee9a\n",
      "Working on pull request titled: Fix missing .\n",
      "[41] url for this pull_req: https://api.github.com/repos/tensorflow/tensorflow/issues/16456?per_page=100&access_token=26e3f7340239e28acf3a2a1b79736f6f5d81ee9a\n",
      "Working on pull request titled: 'InputFnOps' object has no attribute 'receiver_tensors'\n",
      "[42] url for this pull_req: https://api.github.com/repos/tensorflow/tensorflow/issues/16455?per_page=100&access_token=26e3f7340239e28acf3a2a1b79736f6f5d81ee9a\n",
      "Working on pull request titled: Set training=True in BatchNormalization layer causes evaluation error in custom Estimator model\n",
      "[43] url for this pull_req: https://api.github.com/repos/tensorflow/tensorflow/issues/16453?per_page=100&access_token=26e3f7340239e28acf3a2a1b79736f6f5d81ee9a\n",
      "Working on pull request titled: Updated roadmap?\n",
      "[44] url for this pull_req: https://api.github.com/repos/tensorflow/tensorflow/issues/16452?per_page=100&access_token=26e3f7340239e28acf3a2a1b79736f6f5d81ee9a\n"
     ]
    }
   ],
   "source": [
    "url = 'https://api.github.com/repos/tensorflow/tensorflow/issues'\n",
    "params = ut.getParams()\n",
    "params['state'] = 'open'\n",
    "rec.retrieve(url, params, iss.action)"
   ]
  },
  {
   "cell_type": "code",
   "execution_count": null,
   "metadata": {},
   "outputs": [],
   "source": []
  }
 ],
 "metadata": {
  "kernelspec": {
   "display_name": "Python 3",
   "language": "python",
   "name": "python3"
  },
  "language_info": {
   "codemirror_mode": {
    "name": "ipython",
    "version": 3
   },
   "file_extension": ".py",
   "mimetype": "text/x-python",
   "name": "python",
   "nbconvert_exporter": "python",
   "pygments_lexer": "ipython3",
   "version": "3.6.3"
  }
 },
 "nbformat": 4,
 "nbformat_minor": 2
}
